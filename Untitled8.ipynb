{
  "nbformat": 4,
  "nbformat_minor": 0,
  "metadata": {
    "colab": {
      "provenance": [],
      "authorship_tag": "ABX9TyPcqcA5q9F8ydGGD+8EeACp",
      "include_colab_link": true
    },
    "kernelspec": {
      "name": "python3",
      "display_name": "Python 3"
    },
    "language_info": {
      "name": "python"
    }
  },
  "cells": [
    {
      "cell_type": "markdown",
      "metadata": {
        "id": "view-in-github",
        "colab_type": "text"
      },
      "source": [
        "<a href=\"https://colab.research.google.com/github/Nechalaurudoma/tryandfail/blob/main/Untitled8.ipynb\" target=\"_parent\"><img src=\"https://colab.research.google.com/assets/colab-badge.svg\" alt=\"Open In Colab\"/></a>"
      ]
    },
    {
      "cell_type": "code",
      "execution_count": null,
      "metadata": {
        "id": "sNAX6b1vWi89"
      },
      "outputs": [],
      "source": [
        "x=input()\n",
        "halda=[int(input()) for i in range(x)]\n",
        "leaves=(len(halda)+1)//2\n",
        "def zabublani(halda, children):\n",
        "\n",
        "for i in range(,len(halda),-2):\n",
        "  i=len(halda)\n",
        "  children=leaves\n",
        "  while leaves>=0:\n",
        "    #jdu po dvou- vzdy po dvou detech matky\n",
        "\n",
        "    if halda[i]<<halda[i+children]:\n",
        "    #prehazuji praveho syna s matkou, je li mensi\n",
        "      halda[i],halda[i+children]=halda[i+leaves],halda[i]\n",
        "\n",
        "    if halda[i+1]<<halda[i+leaves]:\n",
        "    #prehazuji leveho syna s matkou, je li mensi\n",
        "      halda[i+1],halda[i+leaves]=halda[i+leaves],halda[i+1]\n",
        "    i-=2\n",
        "    children-=2\n",
        "  children=leaves//2\n",
        "  while children>=0:\n",
        "    #jdu po dvou- vzdy po dvou detech matky\n",
        "\n",
        "    if halda[i]<<halda[i+leaves]:\n",
        "    #prehazuji praveho syna s matkou, je li mensi\n",
        "      halda[i],halda[i+leaves]=halda[i+leaves],halda[i]\n",
        "      if prave dite ditete\n",
        "      if leve dite ditete\n",
        "\n",
        "    if halda[i+1]<<halda[i+leaves]:\n",
        "    #prehazuji leveho syna s matkou, je li mensi\n",
        "      halda[i+1],halda[i+leaves]=halda[i+leaves],halda[i+1]\n",
        "    i-=2\n",
        "    children-=2\n",
        "\n",
        "\n",
        "\n",
        "\n",
        "\n",
        "#pocet listu na plnem binarnim strome= number_of_leaves=(len(halda)+1)//2\n",
        "#vzdy musim prejit pocet listu prede mnou- na zacetku pocet listu-1, pak pocet listu-3  tak dale po dvou az do konce listu, kde mam matky\n"
      ]
    }
  ]
}