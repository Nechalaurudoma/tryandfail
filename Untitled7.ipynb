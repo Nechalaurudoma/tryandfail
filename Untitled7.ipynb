{
  "nbformat": 4,
  "nbformat_minor": 0,
  "metadata": {
    "colab": {
      "provenance": [],
      "authorship_tag": "ABX9TyOChU1bwzCAS8+wlCakzb8r",
      "include_colab_link": true
    },
    "kernelspec": {
      "name": "python3",
      "display_name": "Python 3"
    },
    "language_info": {
      "name": "python"
    }
  },
  "cells": [
    {
      "cell_type": "markdown",
      "metadata": {
        "id": "view-in-github",
        "colab_type": "text"
      },
      "source": [
        "<a href=\"https://colab.research.google.com/github/Nechalaurudoma/tryandfail/blob/main/Untitled7.ipynb\" target=\"_parent\"><img src=\"https://colab.research.google.com/assets/colab-badge.svg\" alt=\"Open In Colab\"/></a>"
      ]
    },
    {
      "cell_type": "code",
      "execution_count": 2,
      "metadata": {
        "colab": {
          "base_uri": "https://localhost:8080/",
          "height": 425
        },
        "id": "ZB3-10yv7X7A",
        "outputId": "56d08325-8f7f-4272-dad4-9ccf98be5c0a"
      },
      "outputs": [
        {
          "name": "stdout",
          "output_type": "stream",
          "text": [
            "6\n",
            "6\n"
          ]
        },
        {
          "output_type": "error",
          "ename": "KeyboardInterrupt",
          "evalue": "ignored",
          "traceback": [
            "\u001b[0;31m---------------------------------------------------------------------------\u001b[0m",
            "\u001b[0;31mKeyboardInterrupt\u001b[0m                         Traceback (most recent call last)",
            "\u001b[0;32m<ipython-input-2-57a9c96ef1ab>\u001b[0m in \u001b[0;36m<cell line: 59>\u001b[0;34m()\u001b[0m\n\u001b[1;32m     57\u001b[0m \u001b[0;34m\u001b[0m\u001b[0m\n\u001b[1;32m     58\u001b[0m \u001b[0;34m\u001b[0m\u001b[0m\n\u001b[0;32m---> 59\u001b[0;31m \u001b[0mlatinske\u001b[0m\u001b[0;34m(\u001b[0m\u001b[0;34m)\u001b[0m\u001b[0;34m\u001b[0m\u001b[0;34m\u001b[0m\u001b[0m\n\u001b[0m\u001b[1;32m     60\u001b[0m \u001b[0;34m\u001b[0m\u001b[0m\n\u001b[1;32m     61\u001b[0m \u001b[0;34m\u001b[0m\u001b[0m\n",
            "\u001b[0;32m<ipython-input-2-57a9c96ef1ab>\u001b[0m in \u001b[0;36mlatinske\u001b[0;34m()\u001b[0m\n\u001b[1;32m     47\u001b[0m   \u001b[0mn\u001b[0m\u001b[0;34m=\u001b[0m\u001b[0mlen\u001b[0m\u001b[0;34m(\u001b[0m\u001b[0mradek\u001b[0m\u001b[0;34m)\u001b[0m\u001b[0;34m\u001b[0m\u001b[0;34m\u001b[0m\u001b[0m\n\u001b[1;32m     48\u001b[0m   \u001b[0mctverec\u001b[0m\u001b[0;34m=\u001b[0m\u001b[0;34m[\u001b[0m\u001b[0mradek\u001b[0m\u001b[0;34m]\u001b[0m\u001b[0;34m\u001b[0m\u001b[0;34m\u001b[0m\u001b[0m\n\u001b[0;32m---> 49\u001b[0;31m   \u001b[0mgetctverec\u001b[0m \u001b[0;34m(\u001b[0m\u001b[0mctverec\u001b[0m\u001b[0;34m,\u001b[0m\u001b[0mn\u001b[0m\u001b[0;34m)\u001b[0m\u001b[0;34m\u001b[0m\u001b[0;34m\u001b[0m\u001b[0m\n\u001b[0m\u001b[1;32m     50\u001b[0m \u001b[0;34m\u001b[0m\u001b[0m\n\u001b[1;32m     51\u001b[0m   \u001b[0manswer\u001b[0m\u001b[0;34m,\u001b[0m\u001b[0mcoordinate\u001b[0m\u001b[0;34m,\u001b[0m\u001b[0mnulovyradek\u001b[0m\u001b[0;34m=\u001b[0m \u001b[0mkontrola_latiny\u001b[0m\u001b[0;34m(\u001b[0m\u001b[0mctverec\u001b[0m\u001b[0;34m,\u001b[0m \u001b[0mn\u001b[0m\u001b[0;34m)\u001b[0m\u001b[0;34m\u001b[0m\u001b[0;34m\u001b[0m\u001b[0m\n",
            "\u001b[0;32m<ipython-input-2-57a9c96ef1ab>\u001b[0m in \u001b[0;36mgetctverec\u001b[0;34m(ctverec, n)\u001b[0m\n\u001b[1;32m      1\u001b[0m \u001b[0;32mdef\u001b[0m \u001b[0mgetctverec\u001b[0m\u001b[0;34m(\u001b[0m\u001b[0mctverec\u001b[0m\u001b[0;34m,\u001b[0m\u001b[0mn\u001b[0m\u001b[0;34m)\u001b[0m\u001b[0;34m:\u001b[0m\u001b[0;34m\u001b[0m\u001b[0;34m\u001b[0m\u001b[0m\n\u001b[1;32m      2\u001b[0m   \u001b[0;32mwhile\u001b[0m \u001b[0;32mTrue\u001b[0m\u001b[0;34m:\u001b[0m\u001b[0;34m\u001b[0m\u001b[0;34m\u001b[0m\u001b[0m\n\u001b[0;32m----> 3\u001b[0;31m     \u001b[0mradek\u001b[0m\u001b[0;34m=\u001b[0m\u001b[0;34m[\u001b[0m\u001b[0mint\u001b[0m\u001b[0;34m(\u001b[0m\u001b[0mx\u001b[0m\u001b[0;34m)\u001b[0m \u001b[0;32mfor\u001b[0m \u001b[0mx\u001b[0m \u001b[0;32min\u001b[0m \u001b[0;34m(\u001b[0m\u001b[0minput\u001b[0m\u001b[0;34m(\u001b[0m\u001b[0;34m)\u001b[0m\u001b[0;34m.\u001b[0m\u001b[0mstrip\u001b[0m\u001b[0;34m(\u001b[0m\u001b[0;34m)\u001b[0m\u001b[0;34m)\u001b[0m\u001b[0;34m.\u001b[0m\u001b[0msplit\u001b[0m\u001b[0;34m(\u001b[0m\u001b[0;34m)\u001b[0m\u001b[0;34m]\u001b[0m\u001b[0;34m\u001b[0m\u001b[0;34m\u001b[0m\u001b[0m\n\u001b[0m\u001b[1;32m      4\u001b[0m     \u001b[0;32mif\u001b[0m \u001b[0mlen\u001b[0m\u001b[0;34m(\u001b[0m\u001b[0mradek\u001b[0m\u001b[0;34m)\u001b[0m\u001b[0;34m!=\u001b[0m\u001b[0mn\u001b[0m\u001b[0;34m:\u001b[0m\u001b[0;34m\u001b[0m\u001b[0;34m\u001b[0m\u001b[0m\n\u001b[1;32m      5\u001b[0m       \u001b[0;32mcontinue\u001b[0m\u001b[0;34m\u001b[0m\u001b[0;34m\u001b[0m\u001b[0m\n",
            "\u001b[0;32m/usr/local/lib/python3.10/dist-packages/ipykernel/kernelbase.py\u001b[0m in \u001b[0;36mraw_input\u001b[0;34m(self, prompt)\u001b[0m\n\u001b[1;32m    849\u001b[0m                 \u001b[0;34m\"raw_input was called, but this frontend does not support input requests.\"\u001b[0m\u001b[0;34m\u001b[0m\u001b[0;34m\u001b[0m\u001b[0m\n\u001b[1;32m    850\u001b[0m             )\n\u001b[0;32m--> 851\u001b[0;31m         return self._input_request(str(prompt),\n\u001b[0m\u001b[1;32m    852\u001b[0m             \u001b[0mself\u001b[0m\u001b[0;34m.\u001b[0m\u001b[0m_parent_ident\u001b[0m\u001b[0;34m,\u001b[0m\u001b[0;34m\u001b[0m\u001b[0;34m\u001b[0m\u001b[0m\n\u001b[1;32m    853\u001b[0m             \u001b[0mself\u001b[0m\u001b[0;34m.\u001b[0m\u001b[0m_parent_header\u001b[0m\u001b[0;34m,\u001b[0m\u001b[0;34m\u001b[0m\u001b[0;34m\u001b[0m\u001b[0m\n",
            "\u001b[0;32m/usr/local/lib/python3.10/dist-packages/ipykernel/kernelbase.py\u001b[0m in \u001b[0;36m_input_request\u001b[0;34m(self, prompt, ident, parent, password)\u001b[0m\n\u001b[1;32m    893\u001b[0m             \u001b[0;32mexcept\u001b[0m \u001b[0mKeyboardInterrupt\u001b[0m\u001b[0;34m:\u001b[0m\u001b[0;34m\u001b[0m\u001b[0;34m\u001b[0m\u001b[0m\n\u001b[1;32m    894\u001b[0m                 \u001b[0;31m# re-raise KeyboardInterrupt, to truncate traceback\u001b[0m\u001b[0;34m\u001b[0m\u001b[0;34m\u001b[0m\u001b[0m\n\u001b[0;32m--> 895\u001b[0;31m                 \u001b[0;32mraise\u001b[0m \u001b[0mKeyboardInterrupt\u001b[0m\u001b[0;34m(\u001b[0m\u001b[0;34m\"Interrupted by user\"\u001b[0m\u001b[0;34m)\u001b[0m \u001b[0;32mfrom\u001b[0m \u001b[0;32mNone\u001b[0m\u001b[0;34m\u001b[0m\u001b[0;34m\u001b[0m\u001b[0m\n\u001b[0m\u001b[1;32m    896\u001b[0m             \u001b[0;32mexcept\u001b[0m \u001b[0mException\u001b[0m \u001b[0;32mas\u001b[0m \u001b[0me\u001b[0m\u001b[0;34m:\u001b[0m\u001b[0;34m\u001b[0m\u001b[0;34m\u001b[0m\u001b[0m\n\u001b[1;32m    897\u001b[0m                 \u001b[0mself\u001b[0m\u001b[0;34m.\u001b[0m\u001b[0mlog\u001b[0m\u001b[0;34m.\u001b[0m\u001b[0mwarning\u001b[0m\u001b[0;34m(\u001b[0m\u001b[0;34m\"Invalid Message:\"\u001b[0m\u001b[0;34m,\u001b[0m \u001b[0mexc_info\u001b[0m\u001b[0;34m=\u001b[0m\u001b[0;32mTrue\u001b[0m\u001b[0;34m)\u001b[0m\u001b[0;34m\u001b[0m\u001b[0;34m\u001b[0m\u001b[0m\n",
            "\u001b[0;31mKeyboardInterrupt\u001b[0m: Interrupted by user"
          ]
        }
      ],
      "source": [
        "def getctverec(ctverec,n):\n",
        "  while True:\n",
        "    if len(ctverec)==n:\n",
        "      return(ctverec)\n",
        "    radek=[int(x) for x in (input().strip()).split()]\n",
        "    if len(radek)!=n:\n",
        "      continue\n",
        "    else:\n",
        "      ctverec.append(radek)\n",
        "\n",
        "\n",
        "def kontrola_latiny (ctverec, n):\n",
        "  answer='ctverec je latinsky'\n",
        "  coordinate=None\n",
        "  nulovyradek=None\n",
        "  pom=[True*n]\n",
        "  if n==1:\n",
        "    return(answer, coordinate,nulovyradek)\n",
        "  for radek in ctverec:\n",
        "    for i in range[:n]:\n",
        "      if radek[i]==0:\n",
        "        coordinate=i\n",
        "        nulovyradek=radek\n",
        "        return(answer,coordinate,nulovyradek)\n",
        "      if i in radek:\n",
        "        pom[radek.index(i)]=i\n",
        "    if pom is False:\n",
        "        answer='ctverec neni latinsky'\n",
        "        return(answer,coordinate,nulovyradek)\n",
        "    for radek2 in ctverec[(ctverec.index(radek)+1):len(ctverec)]:\n",
        "      if radek==radek2 or len(set(set(radek).symmetric_difference(set(radek2)))-{0})>=2:\n",
        "        answer='ctverec neni latinsky'\n",
        "        return(answer,coordinate,nulovyradek)\n",
        "  return(answer, coordinate,nulovyradek)\n",
        "\n",
        "\n",
        "def getdoplneni(answer,ctverec,coordinate,nulovyradek):\n",
        "  nulovysloupec=[]\n",
        "  for x in ctverec:\n",
        "      nulovysloupec.append(x[coordinate])\n",
        "  if sorted(nulovysloupec)!=sorted(nulovyradek):\n",
        "    answer='ctverec nelze doplnit na latinsky'\n",
        "  else:\n",
        "    rozdil = set(set(nulovyradek).symmetric_difference(set(ctverec[ctverec.index(nulovyradek) +1])))-{0}\n",
        "    answer=''.join(('ctverec lze doplnit na latinsky cislem ', str(rozdil.pop())))\n",
        "  print(answer)\n",
        "\n",
        "def latinske():\n",
        "  #input prvniho radku o delce n\n",
        "  radek=[int(x) for x in (input().strip()).split()]\n",
        "  n=len(radek)\n",
        "  ctverec=[radek]\n",
        "#input ostatnich radku do n*n\n",
        "  getctverec (ctverec,n)\n",
        "#kontrola, zda je ctverec latinsky, prirazeni odpovedi a koordinate a radek nuloveho vyskytu\n",
        "  answer,coordinate,nulovyradek= kontrola_latiny(ctverec, n)\n",
        "#cim mohu doplnit ctverec na nulove misto\n",
        "  if coordinate!= None:\n",
        "    getdoplneni(answer,ctverec,coordinate,nulovyradek)\n",
        "  else:\n",
        "    print(answer)\n",
        "\n",
        "\n",
        "latinske()\n",
        "\n",
        "\n",
        "# 2 1 4 3\n",
        " #4 3 0 1\n",
        "\n",
        " #3 2 1 4\n",
        " #1 4 3 2\n",
        "\n",
        " #2 1 4 3\n",
        " #3 2 1 4\n",
        " #4 3 2 1\n",
        " #1 4 3 2\n",
        "\n",
        "# 2 3 1\n",
        " #3 1 2\n",
        " #1 3 3\n",
        "'''\n",
        "2 5 1 4 3\n",
        " 5 4 3 0 1\n",
        " 3 2 4 1 5\n",
        " 4 1 2 5 2\n",
        " 1 3 5 2 4'''\n",
        "#ctverec=[(int(x),int(y)) for (x,y) in (tuple(item.split()) for item in input().split())]"
      ]
    },
    {
      "cell_type": "code",
      "source": [
        "if 2+3==6:\n",
        "  global answer\n",
        "  answer = 'juch'\n",
        "\n",
        "if answer is not None:\n",
        "  print('juchu')"
      ],
      "metadata": {
        "colab": {
          "base_uri": "https://localhost:8080/",
          "height": 227
        },
        "id": "cUL0EA24GLH9",
        "outputId": "c880bf03-0376-417f-f08b-7cb045f4778c"
      },
      "execution_count": null,
      "outputs": [
        {
          "output_type": "error",
          "ename": "NameError",
          "evalue": "ignored",
          "traceback": [
            "\u001b[0;31m---------------------------------------------------------------------------\u001b[0m",
            "\u001b[0;31mNameError\u001b[0m                                 Traceback (most recent call last)",
            "\u001b[0;32m<ipython-input-19-d7b0f8f7d1b8>\u001b[0m in \u001b[0;36m<cell line: 5>\u001b[0;34m()\u001b[0m\n\u001b[1;32m      3\u001b[0m   \u001b[0manswer\u001b[0m \u001b[0;34m=\u001b[0m \u001b[0;34m'juch'\u001b[0m\u001b[0;34m\u001b[0m\u001b[0;34m\u001b[0m\u001b[0m\n\u001b[1;32m      4\u001b[0m \u001b[0;34m\u001b[0m\u001b[0m\n\u001b[0;32m----> 5\u001b[0;31m \u001b[0;32mif\u001b[0m \u001b[0manswer\u001b[0m \u001b[0;32mis\u001b[0m \u001b[0;32mnot\u001b[0m \u001b[0;32mNone\u001b[0m\u001b[0;34m:\u001b[0m\u001b[0;34m\u001b[0m\u001b[0;34m\u001b[0m\u001b[0m\n\u001b[0m\u001b[1;32m      6\u001b[0m   \u001b[0mprint\u001b[0m\u001b[0;34m(\u001b[0m\u001b[0;34m'juchu'\u001b[0m\u001b[0;34m)\u001b[0m\u001b[0;34m\u001b[0m\u001b[0;34m\u001b[0m\u001b[0m\n",
            "\u001b[0;31mNameError\u001b[0m: name 'answer' is not defined"
          ]
        }
      ]
    },
    {
      "cell_type": "code",
      "source": [
        "def getctverec(ctverec,n):\n",
        "  while True:\n",
        "    radek=[int(x) for x in (input().strip()).split()]\n",
        "    if len(radek)!=n:\n",
        "      continue\n",
        "    else:\n",
        "      ctverec.append(radek)\n",
        "    if len(ctverec)==n:\n",
        "      return(ctverec)\n",
        "      False\n",
        "def latinske():\n",
        "  radek=[int(x) for x in input().split()]\n",
        "  n=len(radek)\n",
        "  ctverec=[radek]\n",
        "  getctverec(ctverec,n)\n",
        "  koordinate=None\n",
        "  for radek in ctverec:\n",
        "    for radek2 in ctverec[(ctverec.index(radek)+1):len(ctverec)]:\n",
        "      for i in range(n-1):\n",
        "          if radek[i]==radek2[i] or radek[i]==radek[i:n-1]:\n",
        "            print('ctverec neni latinsky')\n",
        "            break\n",
        "          if radek[i]==0:\n",
        "            koordinate=i\n",
        "            #print(radek)\n",
        "            nulovyradek=radek\n",
        "            #print(nulovyradek)\n",
        "  if koordinate is not None:\n",
        "    nulovysloupec=[]\n",
        "    for x in ctverec:\n",
        "      nulovysloupec.append(x[koordinate])\n",
        "      #print(nulovysloupec)\n",
        "    if sorted(nulovysloupec)!=sorted(nulovyradek):\n",
        "      print('nelze doplnit na latinsky ctverec')\n",
        "\n",
        "    else:\n",
        "      rozdil = set(set(nulovyradek).symmetric_difference(set(ctverec[ctverec.index(nulovyradek) +1])))-{0}\n",
        "      print('lze doplnit na latinsky ctverec cislem', int(rozdil.pop()))\n",
        "\n",
        "latinske()\n",
        "\n",
        "# 2 1 4 3\n",
        " #4 3 0 1\n",
        "\n",
        " #3 2 1 4\n",
        " #1 4 3 2\n",
        "\n",
        " #2 1 4 3\n",
        " #3 2 1 4\n",
        " #4 3 2 1\n",
        " #1 4 3 2\n",
        "\n",
        "# 2 3 1\n",
        " #3 1 2\n",
        " #1 3 3"
      ],
      "metadata": {
        "id": "llCYNk1QCn6Q",
        "colab": {
          "base_uri": "https://localhost:8080/"
        },
        "outputId": "235d66f3-7169-4677-c305-6480fadc92d8"
      },
      "execution_count": null,
      "outputs": [
        {
          "name": "stdout",
          "output_type": "stream",
          "text": [
            "2 1 4 3\n",
            "3 2 1 4\n",
            "4 3 2 1\n",
            "1 4 3 2\n"
          ]
        }
      ]
    }
  ]
}