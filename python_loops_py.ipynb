{
  "cells": [
    {
      "cell_type": "markdown",
      "metadata": {
        "id": "view-in-github",
        "colab_type": "text"
      },
      "source": [
        "<a href=\"https://colab.research.google.com/github/Nechalaurudoma/tryandfail/blob/homewreck_i_mean_homework/python_loops_py.ipynb\" target=\"_parent\"><img src=\"https://colab.research.google.com/assets/colab-badge.svg\" alt=\"Open In Colab\"/></a>"
      ]
    },
    {
      "cell_type": "code",
      "execution_count": null,
      "metadata": {
        "colab": {
          "base_uri": "https://localhost:8080/"
        },
        "id": "mqOB8EeOwvdH",
        "outputId": "a4f7eb8f-ca0c-48bb-b29a-951f70f793fa"
      },
      "outputs": [
        {
          "data": {
            "text/plain": [
              "140447044311856"
            ]
          },
          "execution_count": 4,
          "metadata": {},
          "output_type": "execute_result"
        }
      ],
      "source": [
        "x= 'a'\n",
        "id(x)\n",
        "x= x+'b'\n",
        "id(x)"
      ]
    },
    {
      "cell_type": "code",
      "execution_count": null,
      "metadata": {
        "colab": {
          "base_uri": "https://localhost:8080/"
        },
        "id": "qkGfFQ_XyBUJ",
        "outputId": "b9ef2395-19ad-460b-d647-03ae740aed24"
      },
      "outputs": [
        {
          "name": "stdout",
          "output_type": "stream",
          "text": [
            "Type number0\n",
            "0 is even\n",
            "x is 0\n",
            "x is less than 5\n",
            "it´s raining outside\n"
          ]
        }
      ],
      "source": [
        "x= int(input('Type number'))\n",
        "if x % 2 ==0 :\n",
        "  print (x,'is even')\n",
        "  if x == 0:\n",
        "    print ('x is 0')\n",
        "else : \n",
        "    print(x,'is odd')\n",
        "if x ==2 : \n",
        "  print('x is 2')\n",
        "elif x<5:\n",
        "  print ('x is less than 5')\n",
        "print ('it´s raining outside')"
      ]
    },
    {
      "cell_type": "code",
      "execution_count": null,
      "metadata": {
        "colab": {
          "base_uri": "https://localhost:8080/"
        },
        "id": "1CuSB-c62DNh",
        "outputId": "025e77d3-8bb6-4519-e974-28a3f7313d7b"
      },
      "outputs": [
        {
          "name": "stdout",
          "output_type": "stream",
          "text": [
            "Type your name: Lenka\n",
            "Lenka is in the top 20 most used names in Czech Republic\n"
          ]
        }
      ],
      "source": [
        "#You have list of top 20 names in Czech Republic\n",
        "names_list = ['Jiri', 'Jan', 'Marie', 'Petr', 'Jana', 'Josef', 'Pavel', 'Martin', 'Jaroslav', 'Tomas', 'Eva', 'Miroslav', 'Hana', 'Anna', 'Zdenek', 'Frantisek', 'Vaclav', 'Michal', 'Lenka', 'Katerina']\n",
        "#ask for users name, respond if in list\n",
        "name= str(input ('Type your name: ') )\n",
        "if name in names_list:\n",
        "  print (name, 'is in the top 20 most used names in Czech Republic')\n",
        "else:\n",
        "  print (name, 'is not a very common name')\n"
      ]
    },
    {
      "cell_type": "code",
      "execution_count": null,
      "metadata": {
        "colab": {
          "base_uri": "https://localhost:8080/"
        },
        "id": "NbqA7wBa5OYj",
        "outputId": "4430f299-b4d8-48e9-d7a3-12144bb724ae"
      },
      "outputs": [
        {
          "data": {
            "text/plain": [
              "[1, 3, 5, 7, 9]"
            ]
          },
          "execution_count": 37,
          "metadata": {},
          "output_type": "execute_result"
        }
      ],
      "source": [
        "list(range(1,11,2))\n",
        "#range (stop), range (start, stop, step)"
      ]
    },
    {
      "cell_type": "code",
      "execution_count": null,
      "metadata": {
        "colab": {
          "base_uri": "https://localhost:8080/"
        },
        "id": "8sNoCh_W_-pp",
        "outputId": "dc95f1c1-48c4-4159-aa09-19afdd6b48f2"
      },
      "outputs": [
        {
          "name": "stdout",
          "output_type": "stream",
          "text": [
            "p\n",
            "y\n",
            "t\n",
            "h\n",
            "o\n",
            "n\n"
          ]
        }
      ],
      "source": [
        "word= 'python'\n",
        "for letter in word:\n",
        "  print (letter)"
      ]
    },
    {
      "cell_type": "code",
      "execution_count": null,
      "metadata": {
        "colab": {
          "base_uri": "https://localhost:8080/"
        },
        "id": "eYFejqdx57ZX",
        "outputId": "dff8798c-4408-4446-f476-30d0c5fec1b7"
      },
      "outputs": [
        {
          "name": "stdout",
          "output_type": "stream",
          "text": [
            "Type your name: laura\n",
            "l lima\n",
            "a alfa\n",
            "u uniform\n",
            "r romeo\n",
            "a alfa\n"
          ]
        }
      ],
      "source": [
        "#You have international spelling alphabet\n",
        "dictionary = {'a':'alfa', 'b':'bravo', 'c':'charlie', 'd':'delta', 'e':'echo', 'f':'foxtrot', 'g':'golf', 'h':'hotel', 'i':'india', 'j':'juliett', 'k':'kilo', 'l':'lima', 'm':'mike', 'n':'november', 'o':'oscar', 'p':'papa', 'q':'quebec', 'r':'romeo', 's':'sierra', 't':'tango', 'u':'uniform','v':'victor','w':'whiskey', 'x':'x-ray', 'y':'yankee', 'z':'zulu'}\n",
        "\n",
        "#ask name\n",
        "name= str(input ('Type your name: ') )\n",
        "for x in name:\n",
        "  if x in dictionary:\n",
        "    print(x, dictionary[x])\n",
        "\n",
        "  \n",
        "  \n",
        "  \n",
        "\n",
        "  \n",
        "\n",
        "\n",
        "\n",
        "\n"
      ]
    },
    {
      "cell_type": "code",
      "execution_count": null,
      "metadata": {
        "colab": {
          "base_uri": "https://localhost:8080/"
        },
        "id": "IQ4f2fCV4Ozw",
        "outputId": "ceed5bf5-854e-4466-d891-4c549dceef37"
      },
      "outputs": [
        {
          "name": "stdout",
          "output_type": "stream",
          "text": [
            "[1, 2, 3]\n",
            "[4, 5, 6]\n",
            "[7, 8, 9]\n",
            "[1, 2, 3, 4, 5, 6, 7, 8, 9]\n",
            "1\n",
            "2\n",
            "3\n",
            "4\n",
            "5\n",
            "6\n",
            "7\n",
            "8\n",
            "9\n",
            "[[1, 4, 7], [2, 5, 8], [3, 6, 9]]\n"
          ]
        }
      ],
      "source": [
        "b= []\n",
        "a=[[1,2,3],[4,5,6],[7,8,9]]\n",
        "for x in a:\n",
        "  print(x)\n",
        "  for y in x:\n",
        "    b.append(y)\n",
        "print(b)\n",
        "c=[]\n",
        "d=[]\n",
        "e=[]\n",
        "for z in b:\n",
        "  print(z)\n",
        "  if z%3==1:\n",
        "    c.append(z)\n",
        "  elif z%3==2:\n",
        "    d.append(z)\n",
        "  elif z%3==0:\n",
        "    e.append(z)\n",
        "f=[c,d,e]\n",
        "print(f)\n",
        "    \n",
        "\n",
        "\n",
        "    \n",
        "    \n",
        "\n",
        " "
      ]
    },
    {
      "cell_type": "code",
      "execution_count": null,
      "metadata": {
        "id": "hMTdyQ7ONN9R"
      },
      "outputs": [],
      "source": [
        "for x in range (0,5):\n",
        "  print(x)"
      ]
    },
    {
      "cell_type": "code",
      "execution_count": null,
      "metadata": {
        "id": "Q2Nv6d-MP5C0"
      },
      "outputs": [],
      "source": [
        "a=[[1,2,3],[4,5,6],[7,8,9]]\n",
        "clen = []\n",
        "for i in range (0,3):\n",
        "  for j in range (0,3):\n",
        "    clen.append(a[i][j])\n",
        "  b.append(clen)\n",
        "  clen=[]\n",
        "print(b)\n"
      ]
    },
    {
      "cell_type": "code",
      "execution_count": null,
      "metadata": {
        "id": "GTwAnizvJ9tF"
      },
      "outputs": [],
      "source": [
        "flat_list = []\n",
        "list = ['whatever',['1','2','3'],'3er']\n",
        "\n",
        "for member in list:\n",
        "    if type(member) is list:\n",
        "        for item in member:\n",
        "            flat_list.append(item)\n",
        "    else:\n",
        "        flat_list.append(member)"
      ]
    },
    {
      "cell_type": "code",
      "execution_count": null,
      "metadata": {
        "id": "qAgNEToSjAhy"
      },
      "outputs": [],
      "source": []
    },
    {
      "cell_type": "code",
      "execution_count": null,
      "metadata": {
        "id": "ZjVoSUCnjrVA"
      },
      "outputs": [],
      "source": []
    },
    {
      "cell_type": "code",
      "execution_count": null,
      "metadata": {
        "colab": {
          "background_save": true,
          "base_uri": "https://localhost:8080/"
        },
        "id": "1DoUUFwUZgx6",
        "outputId": "00975937-238b-48e5-8c93-0d0392f19cfe"
      },
      "outputs": [
        {
          "name": "stdout",
          "output_type": "stream",
          "text": [
            "You have added carrots to your list\n",
            "You have added bananas to your list\n"
          ]
        }
      ],
      "source": [
        "my_shopping_list=[]\n",
        "first_item= str(input ('Enter item you would like to add to your list: ') )\n",
        "my_shopping_list.append(item)\n",
        "\n",
        "\n",
        "for y in my_shopping_list:\n",
        "  item= str(input ('Enter next item you would like to add to your list: ') )\n",
        "  if item in my_shopping_list:\n",
        "    print(item, 'is already on your list')\n",
        "    replacement_item = str(input ('Enter another item you would like to add to your list: ') )\n",
        "    for x in my_shopping_list:\n",
        "      if replacement_item == x:\n",
        "        print('pls stop')\n",
        "      elif not(replacement_item == x):\n",
        "        my_shopping_list.append(replacement_item)\n",
        "        print(my_shopping_list)\n",
        "        break\n",
        "  else: \n",
        "    my_shopping_list.append(item) \n",
        "    print('You have added {0} to your list'.format(item))\n",
        "   \n",
        "  \n",
        "\n",
        "   \n",
        "\n",
        "    "
      ]
    }
  ],
  "metadata": {
    "colab": {
      "provenance": [],
      "authorship_tag": "ABX9TyMDBBnunqiEz8FQojcQIpFa",
      "include_colab_link": true
    },
    "kernelspec": {
      "display_name": "Python 3",
      "name": "python3"
    },
    "language_info": {
      "name": "python"
    }
  },
  "nbformat": 4,
  "nbformat_minor": 0
}