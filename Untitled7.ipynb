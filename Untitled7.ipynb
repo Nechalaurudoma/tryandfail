{
  "nbformat": 4,
  "nbformat_minor": 0,
  "metadata": {
    "colab": {
      "provenance": [],
      "authorship_tag": "ABX9TyNCGqdyQiU3a+lgOoms9t5B",
      "include_colab_link": true
    },
    "kernelspec": {
      "name": "python3",
      "display_name": "Python 3"
    },
    "language_info": {
      "name": "python"
    }
  },
  "cells": [
    {
      "cell_type": "markdown",
      "metadata": {
        "id": "view-in-github",
        "colab_type": "text"
      },
      "source": [
        "<a href=\"https://colab.research.google.com/github/Nechalaurudoma/tryandfail/blob/main/Untitled7.ipynb\" target=\"_parent\"><img src=\"https://colab.research.google.com/assets/colab-badge.svg\" alt=\"Open In Colab\"/></a>"
      ]
    },
    {
      "cell_type": "code",
      "execution_count": 69,
      "metadata": {
        "colab": {
          "base_uri": "https://localhost:8080/",
          "height": 122
        },
        "id": "ZB3-10yv7X7A",
        "outputId": "21e52d77-02c2-4313-bc1c-81699078fe42"
      },
      "outputs": [
        {
          "output_type": "stream",
          "name": "stdout",
          "text": [
            "2 1 4 3\n",
            "3 2 1 4\n",
            "4 3 2 1\n",
            "1 4 3 2\n",
            "ctverec je latinsky\n"
          ]
        },
        {
          "output_type": "execute_result",
          "data": {
            "text/plain": [
              "' \\n2 5 1 4 3\\n 5 4 3 0 1\\n 3 2 4 1 5\\n 4 1 2 5 2\\n 1 3 5 2 4'"
            ],
            "application/vnd.google.colaboratory.intrinsic+json": {
              "type": "string"
            }
          },
          "metadata": {},
          "execution_count": 69
        }
      ],
      "source": [
        "def getctverec(ctverec,n):\n",
        "  while True:\n",
        "    radek=[int(x) for x in (input().strip()).split()]\n",
        "    if len(radek)!=n:\n",
        "      continue\n",
        "    else:\n",
        "      ctverec.append(radek)\n",
        "    if len(ctverec)==n:\n",
        "      return(ctverec)\n",
        "\n",
        "def kontrola_latiny (ctverec, n):\n",
        "  answer='ctverec je latinsky'\n",
        "  coordinate=None\n",
        "  nulovyradek=None\n",
        "  for radek in ctverec:\n",
        "    for i in radek[:n]:\n",
        "      if i==0:\n",
        "        coordinate=radek.index(i)\n",
        "        nulovyradek=radek\n",
        "        return(answer,coordinate,nulovyradek)\n",
        "    for i in radek[:n-1]:\n",
        "      for y in radek[radek.index(i)+1:]:\n",
        "        if i==y:\n",
        "          answer='ctverec neni latinsky'\n",
        "          return(answer,coordinate,nulovyradek)\n",
        "    for radek2 in ctverec[(ctverec.index(radek)+1):len(ctverec)]:\n",
        "      if radek==radek2 or len(set(set(radek).symmetric_difference(set(radek2)))-{0})>=2:\n",
        "        answer='ctverec neni latinsky'\n",
        "        return(answer,coordinate,nulovyradek)\n",
        "  return(answer, coordinate,nulovyradek)\n",
        "\n",
        "def getdoplneni(answer,ctverec,coordinate,nulovyradek):\n",
        "  nulovysloupec=[]\n",
        "  for x in ctverec:\n",
        "      nulovysloupec.append(x[coordinate])\n",
        "  if sorted(nulovysloupec)!=sorted(nulovyradek):\n",
        "    answer='ctverec nelze doplnit na latinsky'\n",
        "  else:\n",
        "    rozdil = set(set(nulovyradek).symmetric_difference(set(ctverec[ctverec.index(nulovyradek) +1])))-{0}\n",
        "    answer=''.join(('ctverec lze doplnit na latinsky cislem ', str(rozdil.pop())))\n",
        "  print(answer)\n",
        "\n",
        "def latinske():\n",
        "  radek=[int(x) for x in (input().strip()).split()]\n",
        "  n=len(radek)\n",
        "  ctverec=[radek]\n",
        "  getctverec (ctverec,n)\n",
        "  answer,coordinate,nulovyradek= kontrola_latiny(ctverec, n)\n",
        "\n",
        "  if coordinate!= None:\n",
        "    getdoplneni(answer,ctverec,coordinate,nulovyradek)\n",
        "  else:\n",
        "    print(answer)\n",
        "\n",
        "\n",
        "latinske()\n",
        "\n",
        "\n",
        "# 2 1 4 3\n",
        " #4 3 0 1\n",
        "\n",
        " #3 2 1 4\n",
        " #1 4 3 2\n",
        "\n",
        " #2 1 4 3\n",
        " #3 2 1 4\n",
        " #4 3 2 1\n",
        " #1 4 3 2\n",
        "\n",
        "# 2 3 1\n",
        " #3 1 2\n",
        " #1 3 3\n",
        "'''\n",
        "2 5 1 4 3\n",
        " 5 4 3 0 1\n",
        " 3 2 4 1 5\n",
        " 4 1 2 5 2\n",
        " 1 3 5 2 4'''\n",
        "#ctverec=[(int(x),int(y)) for (x,y) in (tuple(item.split()) for item in input().split())]"
      ]
    },
    {
      "cell_type": "code",
      "source": [
        "if 2+3==6:\n",
        "  global answer\n",
        "  answer = 'juch'\n",
        "\n",
        "if answer is not None:\n",
        "  print('juchu')"
      ],
      "metadata": {
        "colab": {
          "base_uri": "https://localhost:8080/",
          "height": 227
        },
        "id": "cUL0EA24GLH9",
        "outputId": "c880bf03-0376-417f-f08b-7cb045f4778c"
      },
      "execution_count": null,
      "outputs": [
        {
          "output_type": "error",
          "ename": "NameError",
          "evalue": "ignored",
          "traceback": [
            "\u001b[0;31m---------------------------------------------------------------------------\u001b[0m",
            "\u001b[0;31mNameError\u001b[0m                                 Traceback (most recent call last)",
            "\u001b[0;32m<ipython-input-19-d7b0f8f7d1b8>\u001b[0m in \u001b[0;36m<cell line: 5>\u001b[0;34m()\u001b[0m\n\u001b[1;32m      3\u001b[0m   \u001b[0manswer\u001b[0m \u001b[0;34m=\u001b[0m \u001b[0;34m'juch'\u001b[0m\u001b[0;34m\u001b[0m\u001b[0;34m\u001b[0m\u001b[0m\n\u001b[1;32m      4\u001b[0m \u001b[0;34m\u001b[0m\u001b[0m\n\u001b[0;32m----> 5\u001b[0;31m \u001b[0;32mif\u001b[0m \u001b[0manswer\u001b[0m \u001b[0;32mis\u001b[0m \u001b[0;32mnot\u001b[0m \u001b[0;32mNone\u001b[0m\u001b[0;34m:\u001b[0m\u001b[0;34m\u001b[0m\u001b[0;34m\u001b[0m\u001b[0m\n\u001b[0m\u001b[1;32m      6\u001b[0m   \u001b[0mprint\u001b[0m\u001b[0;34m(\u001b[0m\u001b[0;34m'juchu'\u001b[0m\u001b[0;34m)\u001b[0m\u001b[0;34m\u001b[0m\u001b[0;34m\u001b[0m\u001b[0m\n",
            "\u001b[0;31mNameError\u001b[0m: name 'answer' is not defined"
          ]
        }
      ]
    },
    {
      "cell_type": "code",
      "source": [
        "def getctverec(ctverec,n):\n",
        "  while True:\n",
        "    radek=[int(x) for x in (input().strip()).split()]\n",
        "    if len(radek)!=n:\n",
        "      continue\n",
        "    else:\n",
        "      ctverec.append(radek)\n",
        "    if len(ctverec)==n:\n",
        "      return(ctverec)\n",
        "      False\n",
        "def latinske():\n",
        "  radek=[int(x) for x in input().split()]\n",
        "  n=len(radek)\n",
        "  ctverec=[radek]\n",
        "  getctverec(ctverec,n)\n",
        "  koordinate=None\n",
        "  for radek in ctverec:\n",
        "    for radek2 in ctverec[(ctverec.index(radek)+1):len(ctverec)]:\n",
        "      for i in range(n-1):\n",
        "          if radek[i]==radek2[i] or radek[i]==radek[i:n-1]:\n",
        "            print('ctverec neni latinsky')\n",
        "            break\n",
        "          if radek[i]==0:\n",
        "            koordinate=i\n",
        "            #print(radek)\n",
        "            nulovyradek=radek\n",
        "            #print(nulovyradek)\n",
        "  if koordinate is not None:\n",
        "    nulovysloupec=[]\n",
        "    for x in ctverec:\n",
        "      nulovysloupec.append(x[koordinate])\n",
        "      #print(nulovysloupec)\n",
        "    if sorted(nulovysloupec)!=sorted(nulovyradek):\n",
        "      print('nelze doplnit na latinsky ctverec')\n",
        "\n",
        "    else:\n",
        "      rozdil = set(set(nulovyradek).symmetric_difference(set(ctverec[ctverec.index(nulovyradek) +1])))-{0}\n",
        "      print('lze doplnit na latinsky ctverec cislem', int(rozdil.pop()))\n",
        "\n",
        "latinske()\n",
        "\n",
        "# 2 1 4 3\n",
        " #4 3 0 1\n",
        "\n",
        " #3 2 1 4\n",
        " #1 4 3 2\n",
        "\n",
        " #2 1 4 3\n",
        " #3 2 1 4\n",
        " #4 3 2 1\n",
        " #1 4 3 2\n",
        "\n",
        "# 2 3 1\n",
        " #3 1 2\n",
        " #1 3 3"
      ],
      "metadata": {
        "id": "llCYNk1QCn6Q",
        "colab": {
          "base_uri": "https://localhost:8080/"
        },
        "outputId": "235d66f3-7169-4677-c305-6480fadc92d8"
      },
      "execution_count": 4,
      "outputs": [
        {
          "name": "stdout",
          "output_type": "stream",
          "text": [
            "2 1 4 3\n",
            "3 2 1 4\n",
            "4 3 2 1\n",
            "1 4 3 2\n"
          ]
        }
      ]
    }
  ]
}