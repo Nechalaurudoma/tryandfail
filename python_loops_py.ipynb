{
  "nbformat": 4,
  "nbformat_minor": 0,
  "metadata": {
    "colab": {
      "provenance": [],
      "authorship_tag": "ABX9TyN5/I66/DzxF+L0EYvftItn",
      "include_colab_link": true
    },
    "kernelspec": {
      "name": "python3",
      "display_name": "Python 3"
    },
    "language_info": {
      "name": "python"
    }
  },
  "cells": [
    {
      "cell_type": "markdown",
      "metadata": {
        "id": "view-in-github",
        "colab_type": "text"
      },
      "source": [
        "<a href=\"https://colab.research.google.com/github/Nechalaurudoma/tryandfail/blob/homewreck_i_mean_homework/python_loops_py.ipynb\" target=\"_parent\"><img src=\"https://colab.research.google.com/assets/colab-badge.svg\" alt=\"Open In Colab\"/></a>"
      ]
    },
    {
      "cell_type": "code",
      "execution_count": null,
      "metadata": {
        "colab": {
          "base_uri": "https://localhost:8080/"
        },
        "id": "mqOB8EeOwvdH",
        "outputId": "a4f7eb8f-ca0c-48bb-b29a-951f70f793fa"
      },
      "outputs": [
        {
          "output_type": "execute_result",
          "data": {
            "text/plain": [
              "140447044311856"
            ]
          },
          "metadata": {},
          "execution_count": 4
        }
      ],
      "source": [
        "x= 'a'\n",
        "id(x)\n",
        "x= x+'b'\n",
        "id(x)"
      ]
    },
    {
      "cell_type": "code",
      "source": [
        "x= int(input('Type number'))\n",
        "if x % 2 ==0 :\n",
        "  print (x,'is even')\n",
        "  if x == 0:\n",
        "    print ('x is 0')\n",
        "else : \n",
        "    print(x,'is odd')\n",
        "if x ==2 : \n",
        "  print('x is 2')\n",
        "elif x<5:\n",
        "  print ('x is less than 5')\n",
        "print ('it´s raining outside')"
      ],
      "metadata": {
        "colab": {
          "base_uri": "https://localhost:8080/"
        },
        "id": "qkGfFQ_XyBUJ",
        "outputId": "b9ef2395-19ad-460b-d647-03ae740aed24"
      },
      "execution_count": null,
      "outputs": [
        {
          "output_type": "stream",
          "name": "stdout",
          "text": [
            "Type number0\n",
            "0 is even\n",
            "x is 0\n",
            "x is less than 5\n",
            "it´s raining outside\n"
          ]
        }
      ]
    },
    {
      "cell_type": "code",
      "source": [
        "#You have list of top 20 names in Czech Republic\n",
        "names_list = ['Jiri', 'Jan', 'Marie', 'Petr', 'Jana', 'Josef', 'Pavel', 'Martin', 'Jaroslav', 'Tomas', 'Eva', 'Miroslav', 'Hana', 'Anna', 'Zdenek', 'Frantisek', 'Vaclav', 'Michal', 'Lenka', 'Katerina']\n",
        "#ask for users name, respond if in list\n",
        "name= str(input ('Type your name: ') )\n",
        "if name in names_list:\n",
        "  print (name, 'is in the top 20 most used names in Czech Republic')\n",
        "else:\n",
        "  print (name, 'is not a very common name')\n"
      ],
      "metadata": {
        "colab": {
          "base_uri": "https://localhost:8080/"
        },
        "id": "1CuSB-c62DNh",
        "outputId": "025e77d3-8bb6-4519-e974-28a3f7313d7b"
      },
      "execution_count": null,
      "outputs": [
        {
          "output_type": "stream",
          "name": "stdout",
          "text": [
            "Type your name: Lenka\n",
            "Lenka is in the top 20 most used names in Czech Republic\n"
          ]
        }
      ]
    },
    {
      "cell_type": "code",
      "source": [
        "list(range(1,11,2))\n",
        "#range (stop), range (start, stop, step)"
      ],
      "metadata": {
        "colab": {
          "base_uri": "https://localhost:8080/"
        },
        "id": "NbqA7wBa5OYj",
        "outputId": "4430f299-b4d8-48e9-d7a3-12144bb724ae"
      },
      "execution_count": null,
      "outputs": [
        {
          "output_type": "execute_result",
          "data": {
            "text/plain": [
              "[1, 3, 5, 7, 9]"
            ]
          },
          "metadata": {},
          "execution_count": 37
        }
      ]
    },
    {
      "cell_type": "code",
      "source": [
        "word= 'python'\n",
        "for letter in word:\n",
        "  print (letter)"
      ],
      "metadata": {
        "colab": {
          "base_uri": "https://localhost:8080/"
        },
        "id": "8sNoCh_W_-pp",
        "outputId": "dc95f1c1-48c4-4159-aa09-19afdd6b48f2"
      },
      "execution_count": null,
      "outputs": [
        {
          "output_type": "stream",
          "name": "stdout",
          "text": [
            "p\n",
            "y\n",
            "t\n",
            "h\n",
            "o\n",
            "n\n"
          ]
        }
      ]
    },
    {
      "cell_type": "code",
      "source": [
        "#You have international spelling alphabet\n",
        "dictionary = {'a':'alfa', 'b':'bravo', 'c':'charlie', 'd':'delta', 'e':'echo', 'f':'foxtrot', 'g':'golf', 'h':'hotel', 'i':'india', 'j':'juliett', 'k':'kilo', 'l':'lima', 'm':'mike', 'n':'november', 'o':'oscar', 'p':'papa', 'q':'quebec', 'r':'romeo', 's':'sierra', 't':'tango', 'u':'uniform','v':'victor','w':'whiskey', 'x':'x-ray', 'y':'yankee', 'z':'zulu'}\n",
        "\n",
        "#ask name\n",
        "name= str(input ('Type your name: ') )\n",
        "for x in name:\n",
        "  if x in dictionary:\n",
        "    print(x, dictionary[x])\n",
        "\n",
        "  \n",
        "  \n",
        "  \n",
        "\n",
        "  \n",
        "\n",
        "\n",
        "\n",
        "\n"
      ],
      "metadata": {
        "id": "eYFejqdx57ZX",
        "colab": {
          "base_uri": "https://localhost:8080/"
        },
        "outputId": "dff8798c-4408-4446-f476-30d0c5fec1b7"
      },
      "execution_count": 96,
      "outputs": [
        {
          "output_type": "stream",
          "name": "stdout",
          "text": [
            "Type your name: laura\n",
            "l lima\n",
            "a alfa\n",
            "u uniform\n",
            "r romeo\n",
            "a alfa\n"
          ]
        }
      ]
    },
    {
      "cell_type": "code",
      "source": [
        "b= []\n",
        "a=[[1,2,3],[4,5,6],[7,8,9]]\n",
        "for x in a:\n",
        "  print(x)\n",
        "  for y in x:\n",
        "    b.append(y)\n",
        "print(b)\n",
        "c=[]\n",
        "d=[]\n",
        "e=[]\n",
        "for z in b:\n",
        "  print(z)\n",
        "  if z%3==1:\n",
        "    c.append(z)\n",
        "  elif z%3==2:\n",
        "    d.append(z)\n",
        "  elif z%3==0:\n",
        "    e.append(z)\n",
        "f=[c,d,e]\n",
        "print(f)\n",
        "    \n",
        "\n",
        "\n",
        "    \n",
        "    \n",
        "\n",
        " "
      ],
      "metadata": {
        "colab": {
          "base_uri": "https://localhost:8080/"
        },
        "id": "IQ4f2fCV4Ozw",
        "outputId": "ceed5bf5-854e-4466-d891-4c549dceef37"
      },
      "execution_count": 118,
      "outputs": [
        {
          "output_type": "stream",
          "name": "stdout",
          "text": [
            "[1, 2, 3]\n",
            "[4, 5, 6]\n",
            "[7, 8, 9]\n",
            "[1, 2, 3, 4, 5, 6, 7, 8, 9]\n",
            "1\n",
            "2\n",
            "3\n",
            "4\n",
            "5\n",
            "6\n",
            "7\n",
            "8\n",
            "9\n",
            "[[1, 4, 7], [2, 5, 8], [3, 6, 9]]\n"
          ]
        }
      ]
    },
    {
      "cell_type": "code",
      "source": [
        "for x in range (0,5):\n",
        "  print(x)"
      ],
      "metadata": {
        "colab": {
          "base_uri": "https://localhost:8080/"
        },
        "id": "hMTdyQ7ONN9R",
        "outputId": "b86c6079-cb59-4e11-ed56-607ae78d7e89"
      },
      "execution_count": 84,
      "outputs": [
        {
          "output_type": "stream",
          "name": "stdout",
          "text": [
            "0\n",
            "1\n",
            "2\n",
            "3\n",
            "4\n"
          ]
        }
      ]
    },
    {
      "cell_type": "code",
      "source": [
        "a=[[1,2,3],[4,5,6],[7,8,9]]\n",
        "clen = []\n",
        "for i in range (0,3):\n",
        "  for j in range (0,3):\n",
        "    clen.append(a[i][j])\n",
        "  b.append(clen)\n",
        "  clen=[]\n",
        "print(b)\n"
      ],
      "metadata": {
        "colab": {
          "base_uri": "https://localhost:8080/"
        },
        "id": "Q2Nv6d-MP5C0",
        "outputId": "53fad932-4f3e-4560-8598-cfb917e47677"
      },
      "execution_count": 88,
      "outputs": [
        {
          "output_type": "stream",
          "name": "stdout",
          "text": [
            "[[1, 2, 3], [4, 5, 6], [7, 8, 9], [1, 2, 3], [4, 5, 6], [7, 8, 9], [1, 2, 3], [4, 5, 6], [7, 8, 9], [1, 2, 3, 4, 5, 6, 7, 8, 9], [1, 2, 3, 4, 5, 6, 7, 8, 9], [1, 2, 3, 4, 5, 6, 7, 8, 9], [1, 2, 3], [4, 5, 6], [7, 8, 9]]\n"
          ]
        }
      ]
    },
    {
      "cell_type": "code",
      "source": [
        "flat_list = []\n",
        "list = ['whatever',['1','2','3'],'3er']\n",
        "\n",
        "for member in list:\n",
        "    if type(member) is list:\n",
        "        for item in member:\n",
        "            flat_list.append(item)\n",
        "    else:\n",
        "        flat_list.append(member)"
      ],
      "metadata": {
        "id": "GTwAnizvJ9tF"
      },
      "execution_count": 79,
      "outputs": []
    }
  ]
}